{
  "cells": [
    {
      "cell_type": "code",
      "execution_count": null,
      "metadata": {
        "id": "Iedy8b9nEgpT"
      },
      "outputs": [],
      "source": [
        "import os\n",
        "import zipfile\n",
        "import random\n",
        "import tensorflow as tf\n",
        "from tensorflow.keras.optimizers import RMSprop\n",
        "from tensorflow.keras.preprocessing.image import ImageDataGenerator\n",
        "from shutil import copyfile\n",
        "import shutil\n",
        "import tensorflow as tf\n",
        "import numpy as np\n",
        "import matplotlib.pyplot as plt\n",
        "from tensorflow.keras.models import Model\n",
        "from tensorflow.keras.models import load_model"
      ]
    },
    {
      "cell_type": "code",
      "source": [
        "#Clone the repository that contain dataset\n",
        "\n",
        "!git clone https://github.com/aamu14/capstone-bangkit.git"
      ],
      "metadata": {
        "colab": {
          "base_uri": "https://localhost:8080/"
        },
        "id": "OVv7bvVy1dHj",
        "outputId": "7f6fe793-1f3d-44f4-9322-afbbbdbe9b32"
      },
      "execution_count": null,
      "outputs": [
        {
          "output_type": "stream",
          "name": "stdout",
          "text": [
            "fatal: destination path 'capstone-bangkit' already exists and is not an empty directory.\n"
          ]
        }
      ]
    },
    {
      "cell_type": "code",
      "execution_count": null,
      "metadata": {
        "id": "8PA2dsH-EsGk"
      },
      "outputs": [],
      "source": [
        "#Extract the zip file to tmp directory\n",
        "\n",
        "local_zip = '/content/capstone-bangkit/mobil.zip'\n",
        "zip_ref = zipfile.ZipFile(local_zip, 'r')\n",
        "zip_ref.extractall('/tmp')\n",
        "zip_ref.close()"
      ]
    },
    {
      "cell_type": "code",
      "execution_count": null,
      "metadata": {
        "id": "IBUdi6I5TXLj"
      },
      "outputs": [],
      "source": [
        "#Make new 50 directory for each source, training, and dataset.\n",
        "try:\n",
        "    os.mkdir('/tmp/datasets')\n",
        "    os.mkdir('/tmp/datasets/training')\n",
        "    os.mkdir('/tmp/datasets/testing')\n",
        "    os.mkdir('/tmp/datasets/training/86')\n",
        "    os.mkdir('/tmp/datasets/training/C-HR Hybrid')\n",
        "    os.mkdir('/tmp/datasets/training/C-Hr')\n",
        "    os.mkdir('/tmp/datasets/training/Hi-Max')\n",
        "    os.mkdir('/tmp/datasets/training/HiAce')\n",
        "    os.mkdir('/tmp/datasets/training/Karimun Wagon R')\n",
        "    os.mkdir('/tmp/datasets/training/Raize')\n",
        "    os.mkdir('/tmp/datasets/training/Terios')\n",
        "    os.mkdir('/tmp/datasets/training/Xenia')\n",
        "    os.mkdir('/tmp/datasets/training/agya')\n",
        "    os.mkdir('/tmp/datasets/training/all new carry pick up')\n",
        "    os.mkdir('/tmp/datasets/training/almaz')\n",
        "    os.mkdir('/tmp/datasets/training/alphard')\n",
        "    os.mkdir('/tmp/datasets/training/apv arena')\n",
        "    os.mkdir('/tmp/datasets/training/avanza')\n",
        "    os.mkdir('/tmp/datasets/training/ayla')\n",
        "    os.mkdir('/tmp/datasets/training/baleno')\n",
        "    os.mkdir('/tmp/datasets/training/calya')\n",
        "    os.mkdir('/tmp/datasets/training/camry')\n",
        "    os.mkdir('/tmp/datasets/training/camry hybrid')\n",
        "    os.mkdir('/tmp/datasets/training/confero')\n",
        "    os.mkdir('/tmp/datasets/training/corolla altis')\n",
        "    os.mkdir('/tmp/datasets/training/corolla altis hybrid')\n",
        "    os.mkdir('/tmp/datasets/training/corolla cross')\n",
        "    os.mkdir('/tmp/datasets/training/cortez')\n",
        "    os.mkdir('/tmp/datasets/training/ertiga')\n",
        "    os.mkdir('/tmp/datasets/training/formo')\n",
        "    os.mkdir('/tmp/datasets/training/fortuner')\n",
        "    os.mkdir('/tmp/datasets/training/gran max mb')\n",
        "    os.mkdir('/tmp/datasets/training/gran max pickup')\n",
        "    os.mkdir('/tmp/datasets/training/hilux d cab')\n",
        "    os.mkdir('/tmp/datasets/training/hilux s cab')\n",
        "    os.mkdir('/tmp/datasets/training/ignis')\n",
        "    os.mkdir('/tmp/datasets/training/jimny')\n",
        "    os.mkdir('/tmp/datasets/training/juke')\n",
        "    os.mkdir('/tmp/datasets/training/kijang innova')\n",
        "    os.mkdir('/tmp/datasets/training/land cruiser')\n",
        "    os.mkdir('/tmp/datasets/training/luxio')\n",
        "    os.mkdir('/tmp/datasets/training/rocky')\n",
        "    os.mkdir('/tmp/datasets/training/rush')\n",
        "    os.mkdir('/tmp/datasets/training/sienta')\n",
        "    os.mkdir('/tmp/datasets/training/sigra')\n",
        "    os.mkdir('/tmp/datasets/training/sirion')\n",
        "    os.mkdir('/tmp/datasets/training/supra')\n",
        "    os.mkdir('/tmp/datasets/training/vellfire')\n",
        "    os.mkdir('/tmp/datasets/training/veloz')\n",
        "    os.mkdir('/tmp/datasets/training/venturer')\n",
        "    os.mkdir('/tmp/datasets/training/vios')\n",
        "    os.mkdir('/tmp/datasets/training/voxy')\n",
        "    os.mkdir('/tmp/datasets/training/yaris')\n",
        "    os.mkdir('/tmp/datasets/testing/86')\n",
        "    os.mkdir('/tmp/datasets/testing/C-HR Hybrid')\n",
        "    os.mkdir('/tmp/datasets/testing/C-Hr')\n",
        "    os.mkdir('/tmp/datasets/testing/Hi-Max')\n",
        "    os.mkdir('/tmp/datasets/testing/HiAce')\n",
        "    os.mkdir('/tmp/datasets/testing/Karimun Wagon R')\n",
        "    os.mkdir('/tmp/datasets/testing/Raize')\n",
        "    os.mkdir('/tmp/datasets/testing/Terios')\n",
        "    os.mkdir('/tmp/datasets/testing/Xenia')\n",
        "    os.mkdir('/tmp/datasets/testing/agya')\n",
        "    os.mkdir('/tmp/datasets/testing/all new carry pick up')\n",
        "    os.mkdir('/tmp/datasets/testing/almaz')\n",
        "    os.mkdir('/tmp/datasets/testing/alphard')\n",
        "    os.mkdir('/tmp/datasets/testing/apv arena')\n",
        "    os.mkdir('/tmp/datasets/testing/avanza')\n",
        "    os.mkdir('/tmp/datasets/testing/ayla')\n",
        "    os.mkdir('/tmp/datasets/testing/baleno')\n",
        "    os.mkdir('/tmp/datasets/testing/calya')\n",
        "    os.mkdir('/tmp/datasets/testing/camry')\n",
        "    os.mkdir('/tmp/datasets/testing/camry hybrid')\n",
        "    os.mkdir('/tmp/datasets/testing/confero')\n",
        "    os.mkdir('/tmp/datasets/testing/corolla altis')\n",
        "    os.mkdir('/tmp/datasets/testing/corolla altis hybrid')\n",
        "    os.mkdir('/tmp/datasets/testing/corolla cross')\n",
        "    os.mkdir('/tmp/datasets/testing/cortez')\n",
        "    os.mkdir('/tmp/datasets/testing/ertiga')\n",
        "    os.mkdir('/tmp/datasets/testing/formo')\n",
        "    os.mkdir('/tmp/datasets/testing/fortuner')\n",
        "    os.mkdir('/tmp/datasets/testing/gran max mb')\n",
        "    os.mkdir('/tmp/datasets/testing/gran max pickup')\n",
        "    os.mkdir('/tmp/datasets/testing/hilux d cab')\n",
        "    os.mkdir('/tmp/datasets/testing/hilux s cab')\n",
        "    os.mkdir('/tmp/datasets/testing/ignis')\n",
        "    os.mkdir('/tmp/datasets/testing/jimny')\n",
        "    os.mkdir('/tmp/datasets/testing/juke')\n",
        "    os.mkdir('/tmp/datasets/testing/kijang innova')\n",
        "    os.mkdir('/tmp/datasets/testing/land cruiser')\n",
        "    os.mkdir('/tmp/datasets/testing/luxio')\n",
        "    os.mkdir('/tmp/datasets/testing/rocky')\n",
        "    os.mkdir('/tmp/datasets/testing/rush')\n",
        "    os.mkdir('/tmp/datasets/testing/sienta')\n",
        "    os.mkdir('/tmp/datasets/testing/sigra')\n",
        "    os.mkdir('/tmp/datasets/testing/sirion')\n",
        "    os.mkdir('/tmp/datasets/testing/supra')\n",
        "    os.mkdir('/tmp/datasets/testing/vellfire')\n",
        "    os.mkdir('/tmp/datasets/testing/veloz')\n",
        "    os.mkdir('/tmp/datasets/testing/venturer')\n",
        "    os.mkdir('/tmp/datasets/testing/vios')\n",
        "    os.mkdir('/tmp/datasets/testing/voxy')\n",
        "    os.mkdir('/tmp/datasets/testing/yaris')\n",
        "except OSError:\n",
        "    pass"
      ]
    },
    {
      "cell_type": "code",
      "execution_count": null,
      "metadata": {
        "id": "wm5OX8VrWB4j"
      },
      "outputs": [],
      "source": [
        "# This is split_data function. this function will split the datasets.\n",
        "# a SOURCE directory containing the original files\n",
        "# a TRAINING directory that a portion of the files will be copied to\n",
        "# a TESTING directory that a portion of the files will be copied to\n",
        "# a SPLIT SIZE to determine the portion\n",
        "# copyfile(source, destination) copies a file from source to destination\n",
        "# random.sample(list, len(list)) shuffles a list\n",
        "def split_data(SOURCE, TRAINING, TESTING, SPLIT_SIZE):\n",
        "\n",
        "  files=[]\n",
        "  for filename in os.listdir(SOURCE):\n",
        "    file = SOURCE + filename\n",
        "    if os.path.getsize(file) > 0:\n",
        "      files.append(filename)\n",
        "    else:\n",
        "      print('File is empty')\n",
        "\n",
        "    training_length = int(len(files) * SPLIT_SIZE)\n",
        "    testing_length = int(len(files) - training_length)\n",
        "    shuffled_set = random.sample(files, len(files))\n",
        "    training_set = shuffled_set[0:training_length]\n",
        "    testing_set = shuffled_set[-testing_length:]\n",
        "  \n",
        "  for filename in training_set:\n",
        "    src_file = SOURCE + filename\n",
        "    dest_file = TRAINING + filename\n",
        "    copyfile(src_file, dest_file)\n",
        "    \n",
        "  for filename in testing_set:\n",
        "    src_file = SOURCE + filename\n",
        "    dest_file = TESTING + filename\n",
        "    copyfile(src_file, dest_file)"
      ]
    },
    {
      "cell_type": "code",
      "execution_count": null,
      "metadata": {
        "id": "xRHXSGVQAEhX"
      },
      "outputs": [],
      "source": [
        "# Define 50 variables for source, training, and testing of 50 brand\n",
        "\n",
        "a86_SOURCE_DIR = \"/tmp/mobil/86/\"\n",
        "TRAINING_86_DIR = \"/tmp/datasets/training/86/\"\n",
        "TESTING_86_DIR = \"/tmp/datasets/testing/86/\"\n",
        "CHRHybrid_SOURCE_DIR = \"/tmp/mobil/C-HR Hybrid/\"\n",
        "TRAINING_CHRHybrid_DIR = \"/tmp/datasets/training/C-HR Hybrid/\"\n",
        "TESTING_CHRHybrid_DIR = \"/tmp/datasets/testing/C-HR Hybrid/\"\n",
        "CHR_SOURCE_DIR = \"/tmp/mobil/C-Hr/\"\n",
        "TRAINING_CHR_DIR = \"/tmp/datasets/training/C-Hr/\"\n",
        "TESTING_CHR_DIR = \"/tmp/datasets/testing/C-Hr/\"\n",
        "HI_MAX_SOURCE_DIR = \"/tmp/mobil/Hi-Max/\"\n",
        "TRAINING_HI_MAX_DIR = \"/tmp/datasets/training/Hi-Max/\"\n",
        "TESTING_HI_MAX_DIR = \"/tmp/datasets/testing/Hi-Max/\"\n",
        "HiAce_SOURCE_DIR = \"/tmp/mobil/HiAce/\"\n",
        "TRAINING_HiAce_DIR = \"/tmp/datasets/training/HiAce/\"\n",
        "TESTING_HiAce_DIR = \"/tmp/datasets/testing/HiAce/\"\n",
        "Karimun_Wagon_R_SOURCE_DIR = \"/tmp/mobil/Karimun Wagon R/\"\n",
        "TRAINING_Karimun_Wagon_R_DIR = \"/tmp/datasets/training/Karimun Wagon R/\"\n",
        "TESTING_Karimun_Wagon_R_DIR = \"/tmp/datasets/testing/Karimun Wagon R/\"\n",
        "Raize_SOURCE_DIR = \"/tmp/mobil/Raize/\"\n",
        "TRAINING_Raize_DIR = \"/tmp/datasets/training/Raize/\"\n",
        "TESTING_Raize_DIR = \"/tmp/datasets/testing/Raize/\"\n",
        "Terios_SOURCE_DIR = \"/tmp/mobil/Terios/\"\n",
        "TRAINING_Terios_DIR = \"/tmp/datasets/training/Terios/\"\n",
        "TESTING_Terios_DIR = \"/tmp/datasets/testing/Terios/\"\n",
        "Xenia_SOURCE_DIR = \"/tmp/mobil/Xenia/\"\n",
        "TRAINING_Xenia_DIR = \"/tmp/datasets/training/Xenia/\"\n",
        "TESTING_Xenia_DIR = \"/tmp/datasets/testing/Xenia/\"\n",
        "agya_SOURCE_DIR = \"/tmp/mobil/agya/\"\n",
        "TRAINING_agya_DIR = \"/tmp/datasets/training/agya/\"\n",
        "TESTING_agya_DIR = \"/tmp/datasets/testing/agya/\"\n",
        "all_new_carry_pick_up_SOURCE_DIR = \"/tmp/mobil/all new carry pick up/\"\n",
        "TRAINING_all_new_carry_pick_up_DIR = \"/tmp/datasets/training/all new carry pick up/\"\n",
        "TESTING_all_new_carry_pick_up_DIR = \"/tmp/datasets/testing/all new carry pick up/\"\n",
        "almaz_SOURCE_DIR = \"/tmp/mobil/almaz/\"\n",
        "TRAINING_almaz_DIR = \"/tmp/datasets/training/almaz/\"\n",
        "TESTING_almaz_DIR = \"/tmp/datasets/testing/almaz/\"\n",
        "alphard_SOURCE_DIR = \"/tmp/mobil/alphard/\"\n",
        "TRAINING_alphard_DIR = \"/tmp/datasets/training/alphard/\"\n",
        "TESTING_alphard_DIR = \"/tmp/datasets/testing/alphard/\"\n",
        "apv_arena_SOURCE_DIR = \"/tmp/mobil/apv arena/\"\n",
        "TRAINING_apv_arena_DIR = \"/tmp/datasets/training/apv arena/\"\n",
        "TESTING_apv_arena_DIR = \"/tmp/datasets/testing/apv arena/\"\n",
        "avanza_SOURCE_DIR = \"/tmp/mobil/avanza/\"\n",
        "TRAINING_avanza_DIR = \"/tmp/datasets/training/avanza/\"\n",
        "TESTING_avanza_DIR = \"/tmp/datasets/testing/avanza/\"\n",
        "ayla_SOURCE_DIR = \"/tmp/mobil/ayla/\"\n",
        "TRAINING_ayla_DIR = \"/tmp/datasets/training/ayla/\"\n",
        "TESTING_ayla_DIR = \"/tmp/datasets/testing/ayla/\"\n",
        "baleno_SOURCE_DIR = \"/tmp/mobil/baleno/\"\n",
        "TRAINING_baleno_DIR = \"/tmp/datasets/training/baleno/\"\n",
        "TESTING_baleno_DIR = \"/tmp/datasets/testing/baleno/\"\n",
        "calya_SOURCE_DIR = \"/tmp/mobil/calya/\"\n",
        "TRAINING_calya_DIR = \"/tmp/datasets/training/calya/\"\n",
        "TESTING_calya_DIR = \"/tmp/datasets/testing/calya/\"\n",
        "camry_SOURCE_DIR = \"/tmp/mobil/camry/\"\n",
        "TRAINING_camry_DIR = \"/tmp/datasets/training/camry/\"\n",
        "TESTING_camry_DIR = \"/tmp/datasets/testing/camry/\"\n",
        "camry_hybrid_SOURCE_DIR = \"/tmp/mobil/camry hybrid/\"\n",
        "TRAINING_camry_hybrid_DIR = \"/tmp/datasets/training/camry hybrid/\"\n",
        "TESTING_camry_hybrid_DIR = \"/tmp/datasets/testing/camry hybrid/\"\n",
        "confero_SOURCE_DIR = \"/tmp/mobil/confero/\"\n",
        "TRAINING_confero_DIR = \"/tmp/datasets/training/confero/\"\n",
        "TESTING_confero_DIR = \"/tmp/datasets/testing/confero/\"\n",
        "corolla_altis_SOURCE_DIR = \"/tmp/mobil/corolla altis/\"\n",
        "TRAINING_corolla_altis_DIR = \"/tmp/datasets/training/corolla altis/\"\n",
        "TESTING_corolla_altis_DIR = \"/tmp/datasets/testing/corolla altis/\"\n",
        "corolla_altis_hybrid_SOURCE_DIR = \"/tmp/mobil/corolla altis hybrid/\"\n",
        "TRAINING_corolla_altis_hybrid_DIR = \"/tmp/datasets/training/corolla altis hybrid/\"\n",
        "TESTING_corolla_altis_hybrid_DIR = \"/tmp/datasets/testing/corolla altis hybrid/\"\n",
        "corolla_cross_SOURCE_DIR = \"/tmp/mobil/corolla cross/\"\n",
        "TRAINING_corolla_cross_DIR = \"/tmp/datasets/training/corolla cross/\"\n",
        "TESTING_corolla_cross_DIR = \"/tmp/datasets/testing/corolla cross/\"\n",
        "cortez_SOURCE_DIR = \"/tmp/mobil/cortez/\"\n",
        "TRAINING_cortez_DIR = \"/tmp/datasets/training/cortez/\"\n",
        "TESTING_cortez_DIR = \"/tmp/datasets/testing/cortez/\"\n",
        "ertiga_SOURCE_DIR = \"/tmp/mobil/ertiga/\"\n",
        "TRAINING_ertiga_DIR = \"/tmp/datasets/training/ertiga/\"\n",
        "TESTING_ertiga_DIR = \"/tmp/datasets/testing/ertiga/\"\n",
        "formo_SOURCE_DIR = \"/tmp/mobil/formo/\"\n",
        "TRAINING_formo_DIR = \"/tmp/datasets/training/formo/\"\n",
        "TESTING_formo_DIR = \"/tmp/datasets/testing/formo/\"\n",
        "fortuner_SOURCE_DIR = \"/tmp/mobil/fortuner/\"\n",
        "TRAINING_fortuner_DIR = \"/tmp/datasets/training/fortuner/\"\n",
        "TESTING_fortuner_DIR = \"/tmp/datasets/testing/fortuner/\"\n",
        "gran_max_mb_SOURCE_DIR = \"/tmp/mobil/gran max mb/\"\n",
        "TRAINING_gran_max_mb_DIR = \"/tmp/datasets/training/gran max mb/\"\n",
        "TESTING_gran_max_mb_DIR = \"/tmp/datasets/testing/gran max mb/\"\n",
        "gran_max_pickup_SOURCE_DIR = \"/tmp/mobil/gran max pickup/\"\n",
        "TRAINING_gran_max_pickup_DIR = \"/tmp/datasets/training/gran max pickup/\"\n",
        "TESTING_gran_max_pickup_DIR = \"/tmp/datasets/testing/gran max pickup/\"\n",
        "hilux_d_cab_SOURCE_DIR = \"/tmp/mobil/hilux d cab/\"\n",
        "TRAINING_hilux_d_cab_DIR = \"/tmp/datasets/training/hilux d cab/\"\n",
        "TESTING_hilux_d_cab_DIR = \"/tmp/datasets/testing/hilux d cab/\"\n",
        "hilux_s_cab_SOURCE_DIR = \"/tmp/mobil/hilux s cab/\"\n",
        "TRAINING_hilux_s_cab_DIR = \"/tmp/datasets/training/hilux s cab/\"\n",
        "TESTING_hilux_s_cab_DIR = \"/tmp/datasets/testing/hilux s cab/\"\n",
        "ignis_SOURCE_DIR = \"/tmp/mobil/ignis/\"\n",
        "TRAINING_ignis_DIR = \"/tmp/datasets/training/ignis/\"\n",
        "TESTING_ignis_DIR = \"/tmp/datasets/testing/ignis/\"\n",
        "jimny_SOURCE_DIR = \"/tmp/mobil/jimny/\"\n",
        "TRAINING_jimny_DIR = \"/tmp/datasets/training/jimny/\"\n",
        "TESTING_jimny_DIR = \"/tmp/datasets/testing/jimny/\"\n",
        "juke_SOURCE_DIR = \"/tmp/mobil/juke/\"\n",
        "TRAINING_juke_DIR = \"/tmp/datasets/training/juke/\"\n",
        "TESTING_juke_DIR = \"/tmp/datasets/testing/juke/\"\n",
        "kijang_innova_SOURCE_DIR = \"/tmp/mobil/kijang innova/\"\n",
        "TRAINING_kijang_innova_DIR = \"/tmp/datasets/training/kijang innova/\"\n",
        "TESTING_kijang_innova_DIR = \"/tmp/datasets/testing/kijang innova/\"\n",
        "land_cruiser_SOURCE_DIR = \"/tmp/mobil/land cruiser/\"\n",
        "TRAINING_land_cruiser_DIR = \"/tmp/datasets/training/land cruiser/\"\n",
        "TESTING_land_cruiser_DIR = \"/tmp/datasets/testing/land cruiser/\"\n",
        "luxio_SOURCE_DIR = \"/tmp/mobil/luxio/\"\n",
        "TRAINING_luxio_DIR = \"/tmp/datasets/training/luxio/\"\n",
        "TESTING_luxio_DIR = \"/tmp/datasets/testing/luxio/\"\n",
        "rocky_SOURCE_DIR = \"/tmp/mobil/rocky/\"\n",
        "TRAINING_rocky_DIR = \"/tmp/datasets/training/rocky/\"\n",
        "TESTING_rocky_DIR = \"/tmp/datasets/testing/rocky/\"\n",
        "rush_SOURCE_DIR = \"/tmp/mobil/rush/\"\n",
        "TRAINING_rush_DIR = \"/tmp/datasets/training/rush/\"\n",
        "TESTING_rush_DIR = \"/tmp/datasets/testing/rush/\"\n",
        "sienta_SOURCE_DIR = \"/tmp/mobil/sienta/\"\n",
        "TRAINING_sienta_DIR = \"/tmp/datasets/training/sienta/\"\n",
        "TESTING_sienta_DIR = \"/tmp/datasets/testing/sienta/\"\n",
        "sigra_SOURCE_DIR = \"/tmp/mobil/sigra/\"\n",
        "TRAINING_sigra_DIR = \"/tmp/datasets/training/sigra/\"\n",
        "TESTING_sigra_DIR = \"/tmp/datasets/testing/sigra/\"\n",
        "sirion_SOURCE_DIR = \"/tmp/mobil/sirion/\"\n",
        "TRAINING_sirion_DIR = \"/tmp/datasets/training/sirion/\"\n",
        "TESTING_sirion_DIR = \"/tmp/datasets/testing/sirion/\"\n",
        "supra_SOURCE_DIR = \"/tmp/mobil/supra/\"\n",
        "TRAINING_supra_DIR = \"/tmp/datasets/training/supra/\"\n",
        "TESTING_supra_DIR = \"/tmp/datasets/testing/supra/\"\n",
        "vellfire_SOURCE_DIR = \"/tmp/mobil/vellfire/\"\n",
        "TRAINING_vellfire_DIR = \"/tmp/datasets/training/vellfire/\"\n",
        "TESTING_vellfire_DIR = \"/tmp/datasets/testing/vellfire/\"\n",
        "veloz_SOURCE_DIR = \"/tmp/mobil/veloz/\"\n",
        "TRAINING_veloz_DIR = \"/tmp/datasets/training/veloz/\"\n",
        "TESTING_veloz_DIR = \"/tmp/datasets/testing/veloz/\"\n",
        "venturer_SOURCE_DIR = \"/tmp/mobil/venturer/\"\n",
        "TRAINING_venturer_DIR = \"/tmp/datasets/training/venturer/\"\n",
        "TESTING_venturer_DIR = \"/tmp/datasets/testing/venturer/\"\n",
        "vios_SOURCE_DIR = \"/tmp/mobil/vios/\"\n",
        "TRAINING_vios_DIR = \"/tmp/datasets/training/vios/\"\n",
        "TESTING_vios_DIR = \"/tmp/datasets/testing/vios/\"\n",
        "voxy_SOURCE_DIR = \"/tmp/mobil/voxy/\"\n",
        "TRAINING_voxy_DIR = \"/tmp/datasets/training/voxy/\"\n",
        "TESTING_voxy_DIR = \"/tmp/datasets/testing/voxy/\"\n",
        "yaris_SOURCE_DIR = \"/tmp/mobil/yaris/\"\n",
        "TRAINING_yaris_DIR = \"/tmp/datasets/training/yaris/\"\n",
        "TESTING_yaris_DIR = \"/tmp/datasets/testing/yaris/\""
      ]
    },
    {
      "cell_type": "code",
      "execution_count": null,
      "metadata": {
        "id": "1o8o8UgD_-oP"
      },
      "outputs": [],
      "source": [
        "#Split data for each brand of car with 80% for training and 20% for testing\n",
        "\n",
        "split_size = .8\n",
        "split_data(a86_SOURCE_DIR, TRAINING_86_DIR, TESTING_86_DIR, split_size)\n",
        "split_data(CHRHybrid_SOURCE_DIR, TRAINING_CHRHybrid_DIR, TESTING_CHRHybrid_DIR, split_size)\n",
        "split_data(CHR_SOURCE_DIR, TRAINING_CHR_DIR, TESTING_CHR_DIR, split_size)\n",
        "split_data(HI_MAX_SOURCE_DIR, TRAINING_HI_MAX_DIR, TESTING_HI_MAX_DIR, split_size)\n",
        "split_data(HiAce_SOURCE_DIR, TRAINING_HiAce_DIR, TESTING_HiAce_DIR, split_size)\n",
        "split_data(Karimun_Wagon_R_SOURCE_DIR, TRAINING_Karimun_Wagon_R_DIR, TESTING_Karimun_Wagon_R_DIR, split_size)\n",
        "split_data(Raize_SOURCE_DIR, TRAINING_Raize_DIR, TESTING_Raize_DIR, split_size)\n",
        "split_data(Terios_SOURCE_DIR, TRAINING_Terios_DIR, TESTING_Terios_DIR, split_size)\n",
        "split_data(Xenia_SOURCE_DIR, TRAINING_Xenia_DIR, TESTING_Xenia_DIR, split_size)\n",
        "split_data(agya_SOURCE_DIR, TRAINING_agya_DIR, TESTING_agya_DIR, split_size)\n",
        "split_data(all_new_carry_pick_up_SOURCE_DIR, TRAINING_all_new_carry_pick_up_DIR, TESTING_all_new_carry_pick_up_DIR, split_size)\n",
        "split_data(almaz_SOURCE_DIR, TRAINING_almaz_DIR, TESTING_almaz_DIR, split_size)\n",
        "split_data(alphard_SOURCE_DIR, TRAINING_alphard_DIR, TESTING_alphard_DIR, split_size)\n",
        "split_data(apv_arena_SOURCE_DIR, TRAINING_apv_arena_DIR, TESTING_apv_arena_DIR, split_size)\n",
        "split_data(avanza_SOURCE_DIR, TRAINING_avanza_DIR, TESTING_avanza_DIR, split_size)\n",
        "split_data(ayla_SOURCE_DIR, TRAINING_ayla_DIR, TESTING_ayla_DIR, split_size)\n",
        "split_data(baleno_SOURCE_DIR, TRAINING_baleno_DIR, TESTING_baleno_DIR, split_size)\n",
        "split_data(calya_SOURCE_DIR, TRAINING_calya_DIR, TESTING_calya_DIR, split_size)\n",
        "split_data(camry_SOURCE_DIR, TRAINING_camry_DIR, TESTING_camry_DIR, split_size)\n",
        "split_data(camry_hybrid_SOURCE_DIR, TRAINING_camry_hybrid_DIR, TESTING_camry_hybrid_DIR, split_size)\n",
        "split_data(confero_SOURCE_DIR, TRAINING_confero_DIR, TESTING_confero_DIR, split_size)\n",
        "split_data(corolla_altis_SOURCE_DIR, TRAINING_corolla_altis_DIR, TESTING_corolla_altis_DIR, split_size)\n",
        "split_data(corolla_altis_hybrid_SOURCE_DIR, TRAINING_corolla_altis_hybrid_DIR, TESTING_corolla_altis_hybrid_DIR, split_size)\n",
        "split_data(corolla_cross_SOURCE_DIR, TRAINING_corolla_cross_DIR, TESTING_corolla_cross_DIR, split_size)\n",
        "split_data(cortez_SOURCE_DIR, TRAINING_cortez_DIR, TESTING_cortez_DIR, split_size)\n",
        "split_data(ertiga_SOURCE_DIR, TRAINING_ertiga_DIR, TESTING_ertiga_DIR, split_size)\n",
        "split_data(formo_SOURCE_DIR, TRAINING_formo_DIR, TESTING_formo_DIR, split_size)\n",
        "split_data(fortuner_SOURCE_DIR, TRAINING_fortuner_DIR, TESTING_fortuner_DIR, split_size)\n",
        "split_data(gran_max_mb_SOURCE_DIR, TRAINING_gran_max_mb_DIR, TESTING_gran_max_mb_DIR, split_size)\n",
        "split_data(gran_max_pickup_SOURCE_DIR, TRAINING_gran_max_pickup_DIR, TESTING_gran_max_pickup_DIR, split_size)\n",
        "split_data(hilux_d_cab_SOURCE_DIR, TRAINING_hilux_d_cab_DIR, TESTING_hilux_d_cab_DIR, split_size)\n",
        "split_data(hilux_s_cab_SOURCE_DIR, TRAINING_hilux_s_cab_DIR, TESTING_hilux_s_cab_DIR, split_size)\n",
        "split_data(ignis_SOURCE_DIR, TRAINING_ignis_DIR, TESTING_ignis_DIR, split_size)\n",
        "split_data(jimny_SOURCE_DIR, TRAINING_jimny_DIR, TESTING_jimny_DIR, split_size)\n",
        "split_data(juke_SOURCE_DIR, TRAINING_juke_DIR, TESTING_juke_DIR, split_size)\n",
        "split_data(kijang_innova_SOURCE_DIR, TRAINING_kijang_innova_DIR, TESTING_kijang_innova_DIR, split_size)\n",
        "split_data(land_cruiser_SOURCE_DIR, TRAINING_land_cruiser_DIR, TESTING_land_cruiser_DIR, split_size)\n",
        "split_data(luxio_SOURCE_DIR, TRAINING_luxio_DIR, TESTING_luxio_DIR, split_size)\n",
        "split_data(rocky_SOURCE_DIR, TRAINING_rocky_DIR, TESTING_rocky_DIR, split_size)\n",
        "split_data(rush_SOURCE_DIR, TRAINING_rush_DIR, TESTING_rush_DIR, split_size)\n",
        "split_data(sienta_SOURCE_DIR, TRAINING_sienta_DIR, TESTING_sienta_DIR, split_size)\n",
        "split_data(sigra_SOURCE_DIR, TRAINING_sigra_DIR, TESTING_sigra_DIR, split_size)\n",
        "split_data(sirion_SOURCE_DIR, TRAINING_sirion_DIR, TESTING_sirion_DIR, split_size)\n",
        "split_data(supra_SOURCE_DIR, TRAINING_supra_DIR, TESTING_supra_DIR, split_size)\n",
        "split_data(vellfire_SOURCE_DIR, TRAINING_vellfire_DIR, TESTING_vellfire_DIR, split_size)\n",
        "split_data(veloz_SOURCE_DIR, TRAINING_veloz_DIR, TESTING_veloz_DIR, split_size)\n",
        "split_data(venturer_SOURCE_DIR, TRAINING_venturer_DIR, TESTING_venturer_DIR, split_size)\n",
        "split_data(vios_SOURCE_DIR, TRAINING_vios_DIR, TESTING_vios_DIR, split_size)\n",
        "split_data(voxy_SOURCE_DIR, TRAINING_voxy_DIR, TESTING_voxy_DIR, split_size)\n",
        "split_data(yaris_SOURCE_DIR, TRAINING_yaris_DIR, TESTING_yaris_DIR, split_size)\n"
      ]
    },
    {
      "cell_type": "code",
      "execution_count": null,
      "metadata": {
        "id": "THbxwd__9mGY"
      },
      "outputs": [],
      "source": [
        "#Make a model with Keras and optimizer with RMSprop\n",
        "\n",
        "model = tf.keras.models.Sequential([\n",
        "    tf.keras.layers.Conv2D(16,(7,7), activation = 'relu', input_shape=(150,150,3)),\n",
        "    tf.keras.layers.MaxPooling2D(2,2),\n",
        "    tf.keras.layers.Conv2D(32,(7,7), activation = 'relu'),\n",
        "    tf.keras.layers.MaxPooling2D(2,2),\n",
        "    tf.keras.layers.Conv2D(64,(7,7), activation = 'relu'),\n",
        "    tf.keras.layers.MaxPooling2D(2,2),\n",
        "    tf.keras.layers.Conv2D(128,(7,7), activation = 'relu'),\n",
        "    tf.keras.layers.MaxPooling2D(2,2),\n",
        "    tf.keras.layers.Dropout(0.5),\n",
        "    tf.keras.layers.Flatten(),\n",
        "    tf.keras.layers.Dense(512, activation = 'relu'),\n",
        "    tf.keras.layers.Dense(1, activation='sigmoid')\n",
        "])\n",
        "\n",
        "model.compile(optimizer=RMSprop(learning_rate=0.0001), loss='binary_crossentropy', metrics=['acc'])"
      ]
    },
    {
      "cell_type": "code",
      "execution_count": null,
      "metadata": {
        "colab": {
          "base_uri": "https://localhost:8080/"
        },
        "id": "TVIz6R-j9qiA",
        "outputId": "2f61206c-8e3b-4ede-c6de-a36a36652dd0"
      },
      "outputs": [
        {
          "output_type": "stream",
          "name": "stdout",
          "text": [
            "Found 864 images belonging to 50 classes.\n",
            "Found 233 images belonging to 50 classes.\n"
          ]
        }
      ],
      "source": [
        "#Training and Validation Generator\n",
        "\n",
        "TRAINING_DIR = '/tmp/datasets/training'\n",
        "train_datagen = ImageDataGenerator(rescale=1.0/255.)\n",
        "train_generator = train_datagen.flow_from_directory(TRAINING_DIR,\n",
        "                                                         batch_size=100,\n",
        "                                                         class_mode='categorical', \n",
        "                                                         target_size=(150,150))\n",
        "\n",
        "VALIDATION_DIR = '/tmp/datasets/testing'\n",
        "validation_datagen = ImageDataGenerator(rescale=1.0/255.)\n",
        "validation_generator = validation_datagen.flow_from_directory(VALIDATION_DIR,\n",
        "                                                         batch_size=100,\n",
        "                                                         class_mode='categorical', \n",
        "                                                         target_size=(150,150))"
      ]
    },
    {
      "cell_type": "code",
      "source": [
        "#Fit Model\n",
        "history = model.fit(train_generator,\n",
        "                              epochs=25,\n",
        "                              verbose=1,\n",
        "                              validation_data=validation_generator)"
      ],
      "metadata": {
        "colab": {
          "base_uri": "https://localhost:8080/"
        },
        "id": "6LwLu5Pmoue8",
        "outputId": "9325266f-010d-4c92-8d96-e8f4a4349e00"
      },
      "execution_count": null,
      "outputs": [
        {
          "output_type": "stream",
          "name": "stdout",
          "text": [
            "Epoch 1/25\n",
            "7/9 [======================>.......] - ETA: 1s - loss: 0.2047 - acc: 0.9424"
          ]
        },
        {
          "output_type": "stream",
          "name": "stderr",
          "text": [
            "/usr/local/lib/python3.7/dist-packages/PIL/Image.py:960: UserWarning: Palette images with Transparency expressed in bytes should be converted to RGBA images\n",
            "  \"Palette images with Transparency expressed in bytes should be \"\n"
          ]
        },
        {
          "output_type": "stream",
          "name": "stdout",
          "text": [
            "9/9 [==============================] - 11s 917ms/step - loss: 0.1815 - acc: 0.9511 - val_loss: 0.1030 - val_acc: 0.9800\n",
            "Epoch 2/25\n",
            "9/9 [==============================] - 7s 753ms/step - loss: 0.1055 - acc: 0.9800 - val_loss: 0.1115 - val_acc: 0.9800\n",
            "Epoch 3/25\n",
            "9/9 [==============================] - 7s 743ms/step - loss: 0.1073 - acc: 0.9800 - val_loss: 0.1024 - val_acc: 0.9800\n",
            "Epoch 4/25\n",
            "9/9 [==============================] - 7s 822ms/step - loss: 0.1084 - acc: 0.9800 - val_loss: 0.1021 - val_acc: 0.9800\n",
            "Epoch 5/25\n",
            "9/9 [==============================] - 7s 734ms/step - loss: 0.1066 - acc: 0.9800 - val_loss: 0.1107 - val_acc: 0.9800\n",
            "Epoch 6/25\n",
            "9/9 [==============================] - 7s 723ms/step - loss: 0.1072 - acc: 0.9800 - val_loss: 0.1013 - val_acc: 0.9800\n",
            "Epoch 7/25\n",
            "9/9 [==============================] - 7s 757ms/step - loss: 0.1063 - acc: 0.9800 - val_loss: 0.1133 - val_acc: 0.9800\n",
            "Epoch 8/25\n",
            "9/9 [==============================] - 7s 792ms/step - loss: 0.1039 - acc: 0.9800 - val_loss: 0.1079 - val_acc: 0.9800\n",
            "Epoch 9/25\n",
            "9/9 [==============================] - 7s 765ms/step - loss: 0.1075 - acc: 0.9800 - val_loss: 0.1018 - val_acc: 0.9800\n",
            "Epoch 10/25\n",
            "9/9 [==============================] - 7s 742ms/step - loss: 0.1031 - acc: 0.9800 - val_loss: 0.1203 - val_acc: 0.9800\n",
            "Epoch 11/25\n",
            "9/9 [==============================] - 7s 780ms/step - loss: 0.1067 - acc: 0.9800 - val_loss: 0.1030 - val_acc: 0.9800\n",
            "Epoch 12/25\n",
            "9/9 [==============================] - 7s 766ms/step - loss: 0.1051 - acc: 0.9800 - val_loss: 0.1041 - val_acc: 0.9800\n",
            "Epoch 13/25\n",
            "9/9 [==============================] - 8s 834ms/step - loss: 0.1039 - acc: 0.9800 - val_loss: 0.1065 - val_acc: 0.9800\n",
            "Epoch 14/25\n",
            "9/9 [==============================] - 7s 736ms/step - loss: 0.1051 - acc: 0.9800 - val_loss: 0.1038 - val_acc: 0.9800\n",
            "Epoch 15/25\n",
            "9/9 [==============================] - 7s 725ms/step - loss: 0.1044 - acc: 0.9800 - val_loss: 0.1025 - val_acc: 0.9800\n",
            "Epoch 16/25\n",
            "9/9 [==============================] - 7s 734ms/step - loss: 0.1049 - acc: 0.9800 - val_loss: 0.1025 - val_acc: 0.9800\n",
            "Epoch 17/25\n",
            "9/9 [==============================] - 7s 799ms/step - loss: 0.1033 - acc: 0.9800 - val_loss: 0.1041 - val_acc: 0.9800\n",
            "Epoch 18/25\n",
            "9/9 [==============================] - 7s 761ms/step - loss: 0.1042 - acc: 0.9800 - val_loss: 0.1016 - val_acc: 0.9800\n",
            "Epoch 19/25\n",
            "9/9 [==============================] - 9s 1s/step - loss: 0.1039 - acc: 0.9800 - val_loss: 0.1043 - val_acc: 0.9800\n",
            "Epoch 20/25\n",
            "9/9 [==============================] - 7s 773ms/step - loss: 0.1038 - acc: 0.9800 - val_loss: 0.1043 - val_acc: 0.9800\n",
            "Epoch 21/25\n",
            "9/9 [==============================] - 7s 751ms/step - loss: 0.1037 - acc: 0.9800 - val_loss: 0.1036 - val_acc: 0.9800\n",
            "Epoch 22/25\n",
            "9/9 [==============================] - 7s 741ms/step - loss: 0.1037 - acc: 0.9800 - val_loss: 0.1032 - val_acc: 0.9800\n",
            "Epoch 23/25\n",
            "9/9 [==============================] - 7s 758ms/step - loss: 0.1026 - acc: 0.9800 - val_loss: 0.1020 - val_acc: 0.9800\n",
            "Epoch 24/25\n",
            "9/9 [==============================] - 7s 774ms/step - loss: 0.1037 - acc: 0.9800 - val_loss: 0.1000 - val_acc: 0.9800\n",
            "Epoch 25/25\n",
            "9/9 [==============================] - 7s 772ms/step - loss: 0.1035 - acc: 0.9800 - val_loss: 0.1025 - val_acc: 0.9800\n"
          ]
        }
      ]
    },
    {
      "cell_type": "code",
      "source": [
        "# save model\n",
        "model.save('carmodel.h5')\n",
        "print('Model Saved!')\n",
        " \n",
        "# load model\n",
        "savedModel=load_model('carmodel.h5')\n",
        "savedModel.summary()\n",
        "\n"
      ],
      "metadata": {
        "id": "abIlJVD4gZ-W"
      },
      "execution_count": null,
      "outputs": []
    },
    {
      "cell_type": "code",
      "source": [
        "# PLOT LOSS AND ACCURACY\n",
        "%matplotlib inline\n",
        "\n",
        "import matplotlib.image  as mpimg\n",
        "import matplotlib.pyplot as plt\n",
        "\n",
        "# Retrieve a list of list results on training and test data\n",
        "# sets for each training epoch\n",
        "acc=history.history['acc']\n",
        "val_acc=history.history['val_acc']\n",
        "loss=history.history['loss']\n",
        "val_loss=history.history['val_loss']\n",
        "\n",
        "epochs=range(len(acc)) # Get number of epochs\n",
        "\n",
        "# Plot training and validation accuracy per epoch\n",
        "plt.plot(epochs, acc, 'r', \"Training Accuracy\")\n",
        "plt.plot(epochs, val_acc, 'b', \"Validation Accuracy\")\n",
        "plt.title('Training and validation accuracy')\n",
        "plt.figure()\n",
        "\n",
        "\n",
        "# Plot training and validation loss per epoch\n",
        "plt.plot(epochs, loss, 'r', \"Training Loss\")\n",
        "plt.plot(epochs, val_loss, 'b', \"Validation Loss\")\n",
        "\n",
        "\n",
        "plt.title('Training and validation loss')"
      ],
      "metadata": {
        "colab": {
          "base_uri": "https://localhost:8080/",
          "height": 563
        },
        "id": "P3yCrUAwp0cO",
        "outputId": "40812a80-d532-456a-d3cf-79ce51eafb60"
      },
      "execution_count": null,
      "outputs": [
        {
          "output_type": "execute_result",
          "data": {
            "text/plain": [
              "Text(0.5, 1.0, 'Training and validation loss')"
            ]
          },
          "metadata": {},
          "execution_count": 17
        },
        {
          "output_type": "display_data",
          "data": {
            "text/plain": [
              "<Figure size 432x288 with 1 Axes>"
            ],
            "image/png": "[encoded data removed]"
          },
          "metadata": {
            "needs_background": "light"
          }
        },
        {
          "output_type": "display_data",
          "data": {
            "text/plain": [
              "<Figure size 432x288 with 1 Axes>"
            ],
            "image/png": "[encoded data removed]"
          },
          "metadata": {
            "needs_background": "light"
          }
        }
      ]
    },
    {
      "cell_type": "code",
      "execution_count": null,
      "metadata": {
        "id": "BDHqumxiDVZH",
        "colab": {
          "resources": {
            "http://localhost:8080/nbextensions/google.colab/files.js": {
              "data": "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",
              "ok": true,
              "headers": [
                [
                  "content-type",
                  "application/javascript"
                ]
              ],
              "status": 200,
              "status_text": ""
            }
          },
          "base_uri": "https://localhost:8080/",
          "height": 350
        },
        "outputId": "b9fa4de1-2d42-47dd-b5b8-3ca41153161e"
      },
      "outputs": [
        {
          "name": "stdout",
          "output_type": "stream",
          "text": [
            "Mobil anda adalah :Ertiga\n"
          ]
        },
        {
          "output_type": "display_data",
          "data": {
            "text/plain": [
              "<IPython.core.display.HTML object>"
            ],
            "text/html": [
              "\n",
              "     <input type=\"file\" id=\"files-340805fc-fafe-4338-8e95-d0001ce5b3a2\" name=\"files[]\" multiple disabled\n",
              "        style=\"border:none\" />\n",
              "     <output id=\"result-340805fc-fafe-4338-8e95-d0001ce5b3a2\">\n",
              "      Upload widget is only available when the cell has been executed in the\n",
              "      current browser session. Please rerun this cell to enable.\n",
              "      </output>\n",
              "      <script src=\"/nbextensions/google.colab/files.js\"></script> "
            ]
          },
          "metadata": {}
        },
        {
          "output_type": "stream",
          "name": "stdout",
          "text": [
            "Saving ertiga.jpg to ertiga (2).jpg\n"
          ]
        },
        {
          "output_type": "display_data",
          "data": {
            "text/plain": [
              "<Figure size 432x288 with 1 Axes>"
            ],
            "image/png": "[encoded data removed]"
          },
          "metadata": {
            "needs_background": "light"
          }
        },
        {
          "output_type": "stream",
          "name": "stdout",
          "text": [
            "[0.]\n",
            "data blm masuk\n"
          ]
        }
      ],
      "source": [
        "#Car Picture Upload And Confirmation\n",
        "\n",
        "import numpy as np\n",
        "from google.colab import files\n",
        "from keras.preprocessing import image\n",
        "import matplotlib.pyplot as plt\n",
        "from tensorflow.keras.preprocessing.image import img_to_array, load_img\n",
        "\n",
        "mobilconfirm=str(input(\"Mobil anda adalah :\"))\n",
        "uploaded = files.upload()\n",
        "\n",
        "for fn in uploaded.keys():\n",
        " \n",
        "  # predicting images\n",
        "  path = '/content/' + fn\n",
        "  img = image.load_img(path, target_size=(150,150))\n",
        "  x = image.img_to_array(img)\n",
        "  x = np.expand_dims(x, axis=0)\n",
        "  \n",
        "  plt.imshow(load_img(fn))\n",
        "  plt.show()\n",
        "  images = np.vstack([x])\n",
        "  classes = model.predict(images, batch_size=10)\n",
        "  print(classes[0])\n",
        "  if classes[0]<0.02 and mobilconfirm==\"86\":\n",
        "    print(fn + \" Benar 86\")\n",
        "  elif 0.02<classes[0]<0.04 and mobilconfirm==\"C-HR Hybrid\":\n",
        "    print(fn + \" Benar C-HR Hybrid\")  \n",
        "  elif 0.04<classes[0]<0.06 and mobilconfirm==\"C-Hr\":\n",
        "    print(fn + \" Benar C-Hr\")\n",
        "  elif 0.08<classes[0]<0.1 and mobilconfirm==\"Hi-Max\":\n",
        "    print(fn + \" Benar Hi-Max\") \n",
        "  elif 0.1<classes[0]<0.12 and mobilconfirm==\"HiAce\":\n",
        "    print(fn + \" Benar HiAce\")   \n",
        "  elif 0.12<classes[0]<0.14 and mobilconfirm==\"Karimun Wagon R\":\n",
        "    print(fn + \" Benar Karimun Wagon R\")\n",
        "  elif 0.14<classes[0]<0.16 and mobilconfirm==\"Raize\":\n",
        "    print(fn + \" Benar Raize\")\n",
        "  elif 0.16<classes[0]<0.18 and mobilconfirm==\"Terios\":\n",
        "    print(fn + \" Benar Terios\")\n",
        "  elif 0.18<classes[0]<0.20 and mobilconfirm==\"Xenia\":\n",
        "    print(fn + \" Benar Xenia\")\n",
        "  elif 0.20<classes[0]<0.22 and mobilconfirm==\"Agya\":\n",
        "    print(fn + \" Benar Agya\")\n",
        "  elif 0.22<classes[0]<0.24 and mobilconfirm==\"All New Carry Pick Up\":\n",
        "    print(fn + \" Benar All New Carry Pick Up\")\n",
        "  elif 0.24<classes[0]<0.26 and mobilconfirm==\"Almaz\":\n",
        "    print(fn + \" Benar Almaz\")\n",
        "  elif 0.26<classes[0]<0.28 and mobilconfirm==\"Alphard\":\n",
        "    print(fn + \" Benar Alphard\")\n",
        "  elif 0.28<classes[0]<0.30 and mobilconfirm==\"APV Arena\":\n",
        "    print(fn + \" Benar APV Arena\")\n",
        "  elif 0.30<classes[0]<0.32 and mobilconfirm==\"Avanza\":\n",
        "    print(fn + \" Benar Avanza\")\n",
        "  elif 0.32<classes[0]<0.34 and mobilconfirm==\"Ayla\":\n",
        "    print(fn + \" Benar Ayla\")\n",
        "  elif 0.34<classes[0]<0.36 and mobilconfirm==\"Baleno\":\n",
        "    print(fn + \" Benar Baleno\")\n",
        "  elif 0.36<classes[0]<0.38 and mobilconfirm==\"Calya\":\n",
        "    print(fn + \" Benar Calya\")\n",
        "  elif 0.38<classes[0]<0.40 and mobilconfirm==\"Camry\":\n",
        "    print(fn + \" Benar Camry\")\n",
        "  elif 0.40<classes[0]<0.42 and mobilconfirm==\"Camry Hybrid\":\n",
        "    print(fn + \" Benar Camry Hybrid\")\n",
        "  elif 0.42<classes[0]<0.44 and mobilconfirm==\"Confero\":\n",
        "    print(fn + \" Benar Confero\")\n",
        "  elif 0.44<classes[0]<0.46 and mobilconfirm==\"Corolla Altis\":\n",
        "    print(fn + \" Benar Corolla Altis\")\n",
        "  elif 0.46<classes[0]<0.48 and mobilconfirm==\"Corolla Altis Hybrid\":\n",
        "    print(fn + \" Benar Corolla Altis Hybrid\")\n",
        "  elif 0.48<classes[0]<0.50 and mobilconfirm==\"Corolla Cross\":\n",
        "    print(fn + \" Benar Corolla Cross\")\n",
        "  elif 0.50<classes[0]<0.52 and mobilconfirm==\"Cortez\":\n",
        "    print(fn + \" Benar Cortez\")\n",
        "  elif 0.52<classes[0]<0.54 and mobilconfirm==\"Ertiga\":\n",
        "    print(fn + \" Benar Ertiga\")  \n",
        "  elif 0.54<classes[0]<0.56 and mobilconfirm==\"Formo\":\n",
        "    print(fn + \" Benar Formo\")\n",
        "  elif 0.56<classes[0]<0.58 and mobilconfirm==\"Fortuner\":\n",
        "    print(fn + \" Benar Fortuner\") \n",
        "  elif 0.58<classes[0]<0.60 and mobilconfirm==\"Gran Max MB\":\n",
        "    print(fn + \" Benar Gran Max MB\")   \n",
        "  elif 0.60<classes[0]<0.62 and mobilconfirm==\"Hilux D Cab\":\n",
        "    print(fn + \" Benar Hilux D Cab\")\n",
        "  elif 0.62<classes[0]<0.64 and mobilconfirm==\"Hilux S Cab\":\n",
        "    print(fn + \" Benar Hilux S Cab\")\n",
        "  elif 0.64<classes[0]<0.66 and mobilconfirm==\"Ignis\":\n",
        "    print(fn + \" Benar Ignis\")\n",
        "  elif 0.66<classes[0]<0.68 and mobilconfirm==\"Jimny\":\n",
        "    print(fn + \" Benar Jimny\")\n",
        "  elif 0.68<classes[0]<0.70 and mobilconfirm==\"Juke\":\n",
        "    print(fn + \" Benar Juke\")\n",
        "  elif 0.70<classes[0]<0.72 and mobilconfirm==\"Kijang Innova\":\n",
        "    print(fn + \" Benar Kijang Innova\")\n",
        "  elif 0.72<classes[0]<0.74 and mobilconfirm==\"Land Cruiser\":\n",
        "    print(fn + \" Benar Land Cruiser\")\n",
        "  elif 0.74<classes[0]<0.76 and mobilconfirm==\"Luxio\":\n",
        "    print(fn + \" Benar Luxio\")\n",
        "  elif 0.76<classes[0]<0.78 and mobilconfirm==\"Rocky\":\n",
        "    print(fn + \" Benar Rocky\")\n",
        "  elif 0.78<classes[0]<0.80 and mobilconfirm==\"Rush\":\n",
        "    print(fn + \" Benar Rush\")\n",
        "  elif 0.80<classes[0]<0.82 and mobilconfirm==\"Sienta\":\n",
        "    print(fn + \" Benar Sienta\")\n",
        "  elif 0.82<classes[0]<0.84 and mobilconfirm==\"Sigra\":\n",
        "    print(fn + \" Benar Sigra\")\n",
        "  elif 0.84<classes[0]<0.86 and mobilconfirm==\"Sirion\":\n",
        "    print(fn + \" Benar Sirion\")\n",
        "  elif 0.86<classes[0]<0.88 and mobilconfirm==\"Supra\":\n",
        "    print(fn + \" Benar Supra\")\n",
        "  elif 0.88<classes[0]<0.90 and mobilconfirm==\"Vellfire\":\n",
        "    print(fn + \" Benar Vellfire\")\n",
        "  elif 0.90<classes[0]<0.92 and mobilconfirm==\"Veloz\":\n",
        "    print(fn + \" Benar Veloz\")\n",
        "  elif 0.92<classes[0]<0.94 and mobilconfirm==\"Venturer\":\n",
        "    print(fn + \" Benar Venturer\")\n",
        "  elif 0.94<classes[0]<0.96 and mobilconfirm==\"Vios\":\n",
        "    print(fn + \" Benar Vios\")\n",
        "  elif 0.96<classes[0]<0.98 and mobilconfirm==\"Voxy\":\n",
        "    print(fn + \" Benar Voxy\")\n",
        "  elif 0.98<classes[0]<1.0 and mobilconfirm==\"Yaris\":\n",
        "    print(fn + \" Benar Yaris\")\n",
        "  else:\n",
        "    print(\"data blm masuk\")"
      ]
    }
  ],
  "metadata": {
    "accelerator": "GPU",
    "colab": {
      "collapsed_sections": [],
      "name": "CarPredictionModel.ipynb",
      "provenance": []
    },
    "kernelspec": {
      "display_name": "Python 3",
      "name": "python3"
    },
    "language_info": {
      "name": "python"
    }
  },
  "nbformat": 4,
  "nbformat_minor": 0
}