{
  "nbformat": 4,
  "nbformat_minor": 0,
  "metadata": {
    "colab": {
      "name": "maintime.ipynb",
      "provenance": [],
      "collapsed_sections": []
    },
    "kernelspec": {
      "name": "python3",
      "display_name": "Python 3"
    },
    "language_info": {
      "name": "python"
    },
    "accelerator": "GPU"
  },
  "cells": [
    {
      "cell_type": "code",
      "execution_count": null,
      "metadata": {
        "id": "rbyTMwabuu6x",
        "colab": {
          "base_uri": "https://localhost:8080/"
        },
        "outputId": "ca9f7e39-1d1c-4cb6-8770-c99830f75c2e"
      },
      "outputs": [
        {
          "output_type": "stream",
          "name": "stdout",
          "text": [
            "Berapa banyak penggunaan mobil anda? (sedikit/sedang/banyak)sedikit\n",
            "Tahun berapa anda memiliki mobil anda?2021\n",
            "Kapan tahun terakhir anda maintenance?2022\n",
            "Kapan bulan terakhir anda maintenance?12\n",
            "Kapan tanggal terakhir anda maintenance?14\n",
            "Mobil anda masih aman, namun tetap perlu diperhatikan waktu maintenance\n",
            "Maintenance berikutnya ada pada tanggal 2023-01-13\n"
          ]
        }
      ],
      "source": [
        "import datetime\n",
        "from datetime import date\n",
        "\n",
        "usage=str(input(\"Berapa banyak penggunaan mobil anda? (sedikit/sedang/banyak)\"))\n",
        "tahunbeli=int(input(\"Tahun berapa anda memiliki mobil anda?\"))\n",
        "umur=date.today().year-tahunbeli\n",
        "multiplier=umur//4\n",
        "x=int(input(\"Kapan tahun terakhir anda maintenance?\"))\n",
        "y=int(input(\"Kapan bulan terakhir anda maintenance?\"))\n",
        "z=int(input(\"Kapan tanggal terakhir anda maintenance?\"))\n",
        "d0=date(x,y,z)\n",
        "\n",
        "if usage==\"sedikit\":\n",
        "  x=30\n",
        "elif usage==\"sedang\":\n",
        "  x=25\n",
        "elif usage==\"banyak\":\n",
        "  x=20\n",
        "\n",
        "if multiplier<=3:\n",
        "  print(\"Mobil anda masih aman, namun tetap perlu diperhatikan waktu maintenance\")\n",
        "if 3<multiplier<=5:\n",
        "  print(\"Mobil anda sudah cukup berumur, mohon frekuensi maintenance diperbanyak\")\n",
        "if multiplier>5:\n",
        "  print(\"Mobil anda sudah berumur, harap diperhatikan tanggal maintenance anda\")\n",
        "\n",
        "start_date = d0 + datetime.timedelta(x-multiplier)\n",
        "print(\"Maintenance berikutnya ada pada tanggal\",start_date)"
      ]
    }
  ]
}